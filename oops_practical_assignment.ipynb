{
  "nbformat": 4,
  "nbformat_minor": 0,
  "metadata": {
    "colab": {
      "provenance": []
    },
    "kernelspec": {
      "name": "python3",
      "display_name": "Python 3"
    },
    "language_info": {
      "name": "python"
    }
  },
  "cells": [
    {
      "cell_type": "code",
      "execution_count": 1,
      "metadata": {
        "colab": {
          "base_uri": "https://localhost:8080/"
        },
        "id": "HcZpA3PyCjP9",
        "outputId": "1efddf0d-53e3-4c1a-f889-76e08bb490fb"
      },
      "outputs": [
        {
          "output_type": "stream",
          "name": "stdout",
          "text": [
            "A generic animal sound.\n",
            "Bark!\n"
          ]
        }
      ],
      "source": [
        "#1. Create a parent class Animal with a method speak() that prints a generic message. Create a child class Dog that overrides the speak() method to print \"Bark!\".\n",
        "\n",
        "\n",
        "\n",
        "class Animal:\n",
        "    def speak(self):\n",
        "        print(\"A generic animal sound.\")\n",
        "\n",
        "class Dog(Animal):\n",
        "    def speak(self):\n",
        "        print(\"Bark!\")\n",
        "\n",
        "# Demonstrate\n",
        "animal = Animal()\n",
        "dog = Dog()\n",
        "\n",
        "animal.speak() # Output: A generic animal sound.\n",
        "dog.speak()    # Output: Bark!\n",
        "\n"
      ]
    },
    {
      "cell_type": "code",
      "source": [
        "#2. Write a program to create an abstract class Shape with a method area(). Derive classes Circle and Rectangle from it and implement the area() method in both.\n",
        "\n",
        "\n",
        "\n",
        "from abc import ABC, abstractmethod\n",
        "import math\n",
        "\n",
        "class Shape(ABC):\n",
        "    @abstractmethod\n",
        "    def area(self):\n",
        "        pass\n",
        "\n",
        "class Circle(Shape):\n",
        "    def __init__(self, radius):\n",
        "        self.radius = radius\n",
        "\n",
        "    def area(self):\n",
        "        return math.pi * self.radius**2\n",
        "\n",
        "class Rectangle(Shape):\n",
        "    def __init__(self, length, width):\n",
        "        self.length = length\n",
        "        self.width = width\n",
        "\n",
        "    def area(self):\n",
        "        return self.length * self.width\n",
        "\n",
        "# Demonstrate\n",
        "circle = Circle(5)\n",
        "rectangle = Rectangle(4, 6)\n",
        "\n",
        "print(f\"Area of Circle: {circle.area():.2f}\")     # Output: Area of Circle: 78.54\n",
        "print(f\"Area of Rectangle: {rectangle.area()}\") # Output: Area of Rectangle: 24\n"
      ],
      "metadata": {
        "colab": {
          "base_uri": "https://localhost:8080/"
        },
        "id": "ZFznUlPbCxqo",
        "outputId": "ac7967e8-2a79-4d33-e5cc-c795f884e9c1"
      },
      "execution_count": 2,
      "outputs": [
        {
          "output_type": "stream",
          "name": "stdout",
          "text": [
            "Area of Circle: 78.54\n",
            "Area of Rectangle: 24\n"
          ]
        }
      ]
    },
    {
      "cell_type": "code",
      "source": [
        "#3. Implement a multi-level inheritance scenario where a class Vehicle has an attribute type. Derive a class Car and further derive a class ElectricCar that adds a battery attribute.\n",
        "\n",
        "\n",
        "\n",
        "class Vehicle:\n",
        "    def __init__(self, vehicle_type):\n",
        "        self.type = vehicle_type\n",
        "\n",
        "    def get_vehicle_info(self):\n",
        "        return f\"Vehicle Type: {self.type}\"\n",
        "\n",
        "class Car(Vehicle):\n",
        "    def __init__(self, vehicle_type, brand):\n",
        "        super().__init__(vehicle_type)\n",
        "        self.brand = brand\n",
        "\n",
        "    def get_car_info(self):\n",
        "        return f\"{self.get_vehicle_info()}, Brand: {self.brand}\"\n",
        "\n",
        "class ElectricCar(Car):\n",
        "    def __init__(self, vehicle_type, brand, battery_kwh):\n",
        "        super().__init__(vehicle_type, brand)\n",
        "        self.battery_kwh = battery_kwh\n",
        "\n",
        "    def get_electric_car_info(self):\n",
        "        return f\"{self.get_car_info()}, Battery (kWh): {self.battery_kwh}\"\n",
        "\n",
        "# Demonstrate\n",
        "vehicle = Vehicle(\"Generic\")\n",
        "car = Car(\"Sedan\", \"Toyota\")\n",
        "electric_car = ElectricCar(\"SUV\", \"Tesla\", 75)\n",
        "\n",
        "print(vehicle.get_vehicle_info())        # Output: Vehicle Type: Generic\n",
        "print(car.get_car_info())                # Output: Vehicle Type: Sedan, Brand: Toyota\n",
        "print(electric_car.get_electric_car_info()) # Output: Vehicle Type: SUV, Brand: Tesla, Battery (kWh): 75\n"
      ],
      "metadata": {
        "colab": {
          "base_uri": "https://localhost:8080/"
        },
        "id": "ntY73E4HC-MH",
        "outputId": "f270fb42-5a03-4ee7-d5dc-39ddb632ef4b"
      },
      "execution_count": 3,
      "outputs": [
        {
          "output_type": "stream",
          "name": "stdout",
          "text": [
            "Vehicle Type: Generic\n",
            "Vehicle Type: Sedan, Brand: Toyota\n",
            "Vehicle Type: SUV, Brand: Tesla, Battery (kWh): 75\n"
          ]
        }
      ]
    },
    {
      "cell_type": "code",
      "source": [
        "#4. Demonstrate polymorphism by creating a base class Bird with a method fly(). Create two derived classes Sparrow and Penguin that override the fly() method.\n",
        "\n",
        "\n",
        "\n",
        "class Bird:\n",
        "    def fly(self):\n",
        "        print(\"Most birds can fly.\")\n",
        "\n",
        "class Sparrow(Bird):\n",
        "    def fly(self):\n",
        "        print(\"Sparrows fly with quick wingbeats.\")\n",
        "\n",
        "class Penguin(Bird):\n",
        "    def fly(self):\n",
        "        print(\"Penguins cannot fly, but they are excellent swimmers!\")\n",
        "\n",
        "# Demonstrate polymorphism\n",
        "def make_bird_fly(bird):\n",
        "    bird.fly()\n",
        "\n",
        "bird = Bird()\n",
        "sparrow = Sparrow()\n",
        "penguin = Penguin()\n",
        "\n",
        "make_bird_fly(bird)     # Output: Most birds can fly.\n",
        "make_bird_fly(sparrow)  # Output: Sparrows fly with quick wingbeats.\n",
        "make_bird_fly(penguin)  # Output: Penguins cannot fly, but they are excellent swimmers!"
      ],
      "metadata": {
        "colab": {
          "base_uri": "https://localhost:8080/"
        },
        "id": "i6IOQumSCx0k",
        "outputId": "8cafc4c3-d708-48b9-cb18-1776e77f8cfa"
      },
      "execution_count": 4,
      "outputs": [
        {
          "output_type": "stream",
          "name": "stdout",
          "text": [
            "Most birds can fly.\n",
            "Sparrows fly with quick wingbeats.\n",
            "Penguins cannot fly, but they are excellent swimmers!\n"
          ]
        }
      ]
    },
    {
      "cell_type": "code",
      "source": [
        "#5. Write a program to demonstrate encapsulation by creating a class BankAccount with private attributes balance and methods to deposit, withdraw, and check balance.\n",
        "\n",
        "\n",
        "class BankAccount:\n",
        "    def __init__(self, initial_balance=0):\n",
        "        # Using double underscore for name mangling to indicate \"private\"\n",
        "        self.__balance = initial_balance\n",
        "        print(f\"Account created with initial balance: {self.__balance}\")\n",
        "\n",
        "    def deposit(self, amount):\n",
        "        if amount > 0:\n",
        "            self.__balance += amount\n",
        "            print(f\"Deposited {amount}. New balance: {self.__balance}\")\n",
        "        else:\n",
        "            print(\"Deposit amount must be positive.\")\n",
        "\n",
        "    def withdraw(self, amount):\n",
        "        if amount > 0:\n",
        "            if self.__balance >= amount:\n",
        "                self.__balance -= amount\n",
        "                print(f\"Withdrew {amount}. New balance: {self.__balance}\")\n",
        "            else:\n",
        "                print(\"Insufficient balance.\")\n",
        "        else:\n",
        "            print(\"Withdrawal amount must be positive.\")\n",
        "\n",
        "    def check_balance(self):\n",
        "        print(f\"Current balance: {self.__balance}\")\n",
        "\n",
        "# Demonstrate\n",
        "account = BankAccount(1000)\n",
        "account.deposit(500)\n",
        "account.withdraw(200)\n",
        "account.check_balance()\n",
        "account.withdraw(1500) # Insufficient balance\n",
        "# print(account.__balance) # This would cause an AttributeError due to name mangling\n",
        "# print(account._BankAccount__balance) # This would work, showing it's not truly private"
      ],
      "metadata": {
        "colab": {
          "base_uri": "https://localhost:8080/"
        },
        "id": "9lEwMicQCx8A",
        "outputId": "47eaa04d-1e9a-4b92-8a37-141016439ad1"
      },
      "execution_count": 5,
      "outputs": [
        {
          "output_type": "stream",
          "name": "stdout",
          "text": [
            "Account created with initial balance: 1000\n",
            "Deposited 500. New balance: 1500\n",
            "Withdrew 200. New balance: 1300\n",
            "Current balance: 1300\n",
            "Insufficient balance.\n"
          ]
        }
      ]
    },
    {
      "cell_type": "code",
      "source": [
        "#6. Demonstrate runtime polymorphism using a method play() in a base class Instrument. Derive classes Guitar and Piano that implement their own version of play().\n",
        "\n",
        "\n",
        "\n",
        "class Instrument:\n",
        "    def play(self):\n",
        "        print(\"An instrument is playing a sound.\")\n",
        "\n",
        "class Guitar(Instrument):\n",
        "    def play(self):\n",
        "        print(\"The guitar is strumming a melody.\")\n",
        "\n",
        "class Piano(Instrument):\n",
        "    def play(self):\n",
        "        print(\"The piano is playing harmonious chords.\")\n",
        "\n",
        "# Demonstrate runtime polymorphism\n",
        "def concert(instrument):\n",
        "    instrument.play()\n",
        "\n",
        "guitar = Guitar()\n",
        "piano = Piano()\n",
        "instrument = Instrument()\n",
        "\n",
        "concert(guitar)   # Output: The guitar is strumming a melody.\n",
        "concert(piano)    # Output: The piano is playing harmonious chords.\n",
        "concert(instrument) # Output: An instrument is playing a sound."
      ],
      "metadata": {
        "colab": {
          "base_uri": "https://localhost:8080/"
        },
        "id": "8_3XI5dxCx_z",
        "outputId": "89f57a8f-aaf0-4e11-9dd5-eadd75d843a2"
      },
      "execution_count": 6,
      "outputs": [
        {
          "output_type": "stream",
          "name": "stdout",
          "text": [
            "The guitar is strumming a melody.\n",
            "The piano is playing harmonious chords.\n",
            "An instrument is playing a sound.\n"
          ]
        }
      ]
    },
    {
      "cell_type": "code",
      "source": [
        "#7. Create a class MathOperations with a class method add_numbers() to add two numbers and a static method subtract_numbers() to subtract two numbers.\n",
        "\n",
        "\n",
        "\n",
        "class MathOperations:\n",
        "    @classmethod\n",
        "    def add_numbers(cls, a, b):\n",
        "        print(f\"Adding using class method: {a} + {b} = {a + b}\")\n",
        "        return a + b\n",
        "\n",
        "    @staticmethod\n",
        "    def subtract_numbers(a, b):\n",
        "        print(f\"Subtracting using static method: {a} - {b} = {a - b}\")\n",
        "        return a - b\n",
        "\n",
        "# Demonstrate\n",
        "MathOperations.add_numbers(10, 5)     # Called via class\n",
        "MathOperations.subtract_numbers(10, 5) # Called via class\n",
        "\n",
        "# You can also call them via an instance, but it's less common for these types of methods\n",
        "# math_obj = MathOperations()\n",
        "# math_obj.add_numbers(20, 8)\n",
        "# math_obj.subtract_numbers(20, 8)"
      ],
      "metadata": {
        "colab": {
          "base_uri": "https://localhost:8080/"
        },
        "id": "gBeCr7H1CyCz",
        "outputId": "e0053888-909a-4210-f27d-e8b65f3e1532"
      },
      "execution_count": 7,
      "outputs": [
        {
          "output_type": "stream",
          "name": "stdout",
          "text": [
            "Adding using class method: 10 + 5 = 15\n",
            "Subtracting using static method: 10 - 5 = 5\n"
          ]
        },
        {
          "output_type": "execute_result",
          "data": {
            "text/plain": [
              "5"
            ]
          },
          "metadata": {},
          "execution_count": 7
        }
      ]
    },
    {
      "cell_type": "code",
      "source": [
        "# 8. Implement a class Person with a class method to count the total number of persons created.\n",
        "\n",
        "\n",
        "\n",
        "class Person:\n",
        "    _total_persons_created = 0  # Class variable to keep count\n",
        "\n",
        "    def __init__(self, name):\n",
        "        self.name = name\n",
        "        Person._total_persons_created += 1 # Increment on each new instance\n",
        "\n",
        "    @classmethod\n",
        "    def get_total_persons(cls):\n",
        "        return cls._total_persons_created\n",
        "\n",
        "# Demonstrate\n",
        "p1 = Person(\"Alice\")\n",
        "p2 = Person(\"Bob\")\n",
        "p3 = Person(\"Charlie\")\n",
        "\n",
        "print(f\"Total persons created: {Person.get_total_persons()}\") # Output: Total persons created: 3\n",
        "\n",
        "p4 = Person(\"David\")\n",
        "print(f\"Total persons created: {Person.get_total_persons()}\") # Output: Total persons created: 4\n"
      ],
      "metadata": {
        "colab": {
          "base_uri": "https://localhost:8080/"
        },
        "id": "7dvoJU0tCyF0",
        "outputId": "0405db68-4ebe-43c8-b8c3-19624e1a886b"
      },
      "execution_count": 8,
      "outputs": [
        {
          "output_type": "stream",
          "name": "stdout",
          "text": [
            "Total persons created: 3\n",
            "Total persons created: 4\n"
          ]
        }
      ]
    },
    {
      "cell_type": "code",
      "source": [
        "#9. Write a class Fraction with attributes numerator and denominator. Override the str method to display the fraction as \"numerator/denominator\".\n",
        "\n",
        "\n",
        "\n",
        "class Fraction:\n",
        "    def __init__(self, numerator, denominator):\n",
        "        if denominator == 0:\n",
        "            raise ValueError(\"Denominator cannot be zero.\")\n",
        "        self.numerator = numerator\n",
        "        self.denominator = denominator\n",
        "\n",
        "    def __str__(self):\n",
        "        return f\"{self.numerator}/{self.denominator}\"\n",
        "\n",
        "    def __repr__(self):\n",
        "        # Good practice to also include a repr for unambiguous representation\n",
        "        return f\"Fraction({self.numerator}, {self.denominator})\"\n",
        "\n",
        "# Demonstrate\n",
        "frac1 = Fraction(3, 4)\n",
        "frac2 = Fraction(1, 2)\n",
        "\n",
        "print(frac1) # Output: 3/4 (calls __str__)\n",
        "print(str(frac2)) # Output: 1/2 (explicitly calls __str__)\n",
        "\n",
        "# In an interactive interpreter, without print(), __repr__ is usually shown\n",
        "# frac1 # Output: Fraction(3, 4)\n",
        "\n",
        "\n",
        "\n"
      ],
      "metadata": {
        "colab": {
          "base_uri": "https://localhost:8080/"
        },
        "id": "I6LRhjjNCyIv",
        "outputId": "f5f95dfd-c532-47ed-d42c-a3d3f0baafc0"
      },
      "execution_count": 9,
      "outputs": [
        {
          "output_type": "stream",
          "name": "stdout",
          "text": [
            "3/4\n",
            "1/2\n"
          ]
        }
      ]
    },
    {
      "cell_type": "code",
      "source": [
        "#10. Demonstrate operator overloading by creating a class Vector and overriding the add method to add two vectors.\n",
        "\n",
        "\n",
        "class Vector:\n",
        "    def __init__(self, x, y):\n",
        "        self.x = x\n",
        "        self.y = y\n",
        "\n",
        "    def __str__(self):\n",
        "        return f\"Vector({self.x}, {self.y})\"\n",
        "\n",
        "    def __add__(self, other):\n",
        "        # This method defines the behavior of the '+' operator\n",
        "        if isinstance(other, Vector):\n",
        "            new_x = self.x + other.x\n",
        "            new_y = self.y + other.y\n",
        "            return Vector(new_x, new_y)\n",
        "        else:\n",
        "            raise TypeError(\"Can only add Vector objects to a Vector.\")\n",
        "\n",
        "# Demonstrate\n",
        "v1 = Vector(2, 3)\n",
        "v2 = Vector(5, 1)\n",
        "\n",
        "v3 = v1 + v2 # Calls v1.__add__(v2)\n",
        "print(f\"Vector 1: {v1}\") # Output: Vector 1: Vector(2, 3)\n",
        "print(f\"Vector 2: {v2}\") # Output: Vector 2: Vector(5, 1)\n",
        "print(f\"Sum of Vectors: {v3}\") # Output: Sum of Vectors: Vector(7, 4)\n",
        "\n",
        "# Try adding with a non-Vector (will raise TypeError)\n",
        "try:\n",
        "    v1 + 10\n",
        "except TypeError as e:\n",
        "    print(e) # Output: Can only add Vector objects to a Vector."
      ],
      "metadata": {
        "colab": {
          "base_uri": "https://localhost:8080/"
        },
        "id": "Sa-8r3-ZCyLr",
        "outputId": "b8a0d9cc-1f22-4e9d-b2fb-8576fd679062"
      },
      "execution_count": 10,
      "outputs": [
        {
          "output_type": "stream",
          "name": "stdout",
          "text": [
            "Vector 1: Vector(2, 3)\n",
            "Vector 2: Vector(5, 1)\n",
            "Sum of Vectors: Vector(7, 4)\n",
            "Can only add Vector objects to a Vector.\n"
          ]
        }
      ]
    },
    {
      "cell_type": "code",
      "source": [
        "#11. Create a class Person with attributes name and age. Add a method greet() that prints \"Hello, my name is {name} and I am {age} years old.\"\n",
        "\n",
        "\n",
        "class Person:\n",
        "    def __init__(self, name, age):\n",
        "        self.name = name\n",
        "        self.age = age\n",
        "\n",
        "    def greet(self):\n",
        "        print(f\"Hello, my name is {self.name} and I am {self.age} years old.\")\n",
        "\n",
        "# Demonstrate\n",
        "person1 = Person(\"Alice\", 30)\n",
        "person2 = Person(\"Bob\", 24)\n",
        "\n",
        "person1.greet() # Output: Hello, my name is Alice and I am 30 years old.\n",
        "person2.greet() # Output: Hello, my name is Bob and I am 24 years old."
      ],
      "metadata": {
        "colab": {
          "base_uri": "https://localhost:8080/"
        },
        "id": "ugq613skCyOj",
        "outputId": "a91b5ab1-812c-43bd-9f34-4a5055edefb5"
      },
      "execution_count": 11,
      "outputs": [
        {
          "output_type": "stream",
          "name": "stdout",
          "text": [
            "Hello, my name is Alice and I am 30 years old.\n",
            "Hello, my name is Bob and I am 24 years old.\n"
          ]
        }
      ]
    },
    {
      "cell_type": "code",
      "source": [
        "#12. Implement a class Student with attributes name and grades. Create a method average_grade() to compute the average of the grades.\n",
        "\n",
        "\n",
        "\n",
        "class Student:\n",
        "    def __init__(self, name, grades):\n",
        "        self.name = name\n",
        "        # Grades should be a list or tuple of numbers\n",
        "        if not isinstance(grades, (list, tuple)):\n",
        "            raise ValueError(\"Grades must be a list or tuple.\")\n",
        "        self.grades = grades\n",
        "\n",
        "    def average_grade(self):\n",
        "        if not self.grades:\n",
        "            return 0.0 # Return 0 if no grades\n",
        "        return sum(self.grades) / len(self.grades)\n",
        "\n",
        "# Demonstrate\n",
        "student1 = Student(\"Emily\", [85, 90, 78, 92])\n",
        "student2 = Student(\"Chris\", [60, 70, 65])\n",
        "student3 = Student(\"Zoe\", [])\n",
        "\n",
        "print(f\"{student1.name}'s average grade: {student1.average_grade():.2f}\") # Output: Emily's average grade: 86.25\n",
        "print(f\"{student2.name}'s average grade: {student2.average_grade():.2f}\") # Output: Chris's average grade: 65.00\n",
        "print(f\"{student3.name}'s average grade: {student3.average_grade():.2f}\") # Output: Zoe's average grade: 0.00\n",
        "\n",
        "\n",
        "\n",
        "\n"
      ],
      "metadata": {
        "colab": {
          "base_uri": "https://localhost:8080/"
        },
        "id": "Czev2FPBCyRg",
        "outputId": "7895211b-340a-4f96-8133-4efc957fe444"
      },
      "execution_count": 12,
      "outputs": [
        {
          "output_type": "stream",
          "name": "stdout",
          "text": [
            "Emily's average grade: 86.25\n",
            "Chris's average grade: 65.00\n",
            "Zoe's average grade: 0.00\n"
          ]
        }
      ]
    },
    {
      "cell_type": "code",
      "source": [
        "#13. Create a class Rectangle with methods set_dimensions() to set the dimensions and area() to calculate the area.\n",
        "\n",
        "\n",
        "class Rectangle:\n",
        "    def __init__(self, length=0, width=0):\n",
        "        self.length = length\n",
        "        self.width = width\n",
        "\n",
        "    def set_dimensions(self, length, width):\n",
        "        if length > 0 and width > 0:\n",
        "            self.length = length\n",
        "            self.width = width\n",
        "            print(f\"Dimensions set to: Length={self.length}, Width={self.width}\")\n",
        "        else:\n",
        "            print(\"Dimensions must be positive.\")\n",
        "\n",
        "    def area(self):\n",
        "        return self.length * self.width\n",
        "\n",
        "# Demonstrate\n",
        "rect1 = Rectangle()\n",
        "print(f\"Initial area: {rect1.area()}\") # Output: Initial area: 0\n",
        "\n",
        "rect1.set_dimensions(10, 5)\n",
        "print(f\"Area after setting dimensions: {rect1.area()}\") # Output: Area after setting dimensions: 50\n",
        "\n",
        "rect2 = Rectangle(7, 3)\n",
        "print(f\"Rectangle 2 area: {rect2.area()}\") # Output: Rectangle 2 area: 21"
      ],
      "metadata": {
        "colab": {
          "base_uri": "https://localhost:8080/"
        },
        "id": "91lCnHdaCyUw",
        "outputId": "22650803-5ac7-42da-8e17-767916772a8d"
      },
      "execution_count": 13,
      "outputs": [
        {
          "output_type": "stream",
          "name": "stdout",
          "text": [
            "Initial area: 0\n",
            "Dimensions set to: Length=10, Width=5\n",
            "Area after setting dimensions: 50\n",
            "Rectangle 2 area: 21\n"
          ]
        }
      ]
    },
    {
      "cell_type": "code",
      "source": [
        "#14. Create a class Employee with a method calculate_salary() that computes the salary based on hours worked and hourly rate. Create a derived class Manager that adds a bonus to the salary.\n",
        "\n",
        "\n",
        "\n",
        "class Employee:\n",
        "    def __init__(self, name, hours_worked, hourly_rate):\n",
        "        self.name = name\n",
        "        self.hours_worked = hours_worked\n",
        "        self.hourly_rate = hourly_rate\n",
        "\n",
        "    def calculate_salary(self):\n",
        "        return self.hours_worked * self.hourly_rate\n",
        "\n",
        "class Manager(Employee):\n",
        "    def __init__(self, name, hours_worked, hourly_rate, bonus):\n",
        "        super().__init__(name, hours_worked, hourly_rate)\n",
        "        self.bonus = bonus\n",
        "\n",
        "    def calculate_salary(self):\n",
        "        # Call the base class method and add the bonus\n",
        "        base_salary = super().calculate_salary()\n",
        "        return base_salary + self.bonus\n",
        "\n",
        "# Demonstrate\n",
        "employee = Employee(\"John Doe\", 160, 25)\n",
        "manager = Manager(\"Jane Smith\", 160, 30, 500)\n",
        "\n",
        "print(f\"{employee.name}'s salary: ${employee.calculate_salary():.2f}\") # Output: John Doe's salary: $4000.00\n",
        "print(f\"{manager.name}'s salary: ${manager.calculate_salary():.2f}\")   # Output: Jane Smith's salary: $5300.00"
      ],
      "metadata": {
        "colab": {
          "base_uri": "https://localhost:8080/"
        },
        "id": "8ci-dvTPCyX8",
        "outputId": "50fa4ba9-c7ac-438f-f7ae-c054d98ad3a0"
      },
      "execution_count": 14,
      "outputs": [
        {
          "output_type": "stream",
          "name": "stdout",
          "text": [
            "John Doe's salary: $4000.00\n",
            "Jane Smith's salary: $5300.00\n"
          ]
        }
      ]
    },
    {
      "cell_type": "code",
      "source": [
        "#15. Create a class Product with attributes name, price, and quantity. Implement a method total_price() that calculates the total price of the product.\n",
        "\n",
        "\n",
        "class Product:\n",
        "    def __init__(self, name, price, quantity):\n",
        "        self.name = name\n",
        "        if price < 0 or quantity < 0:\n",
        "            raise ValueError(\"Price and quantity must be non-negative.\")\n",
        "        self.price = price\n",
        "        self.quantity = quantity\n",
        "\n",
        "    def total_price(self):\n",
        "        return self.price * self.quantity\n",
        "\n",
        "# Demonstrate\n",
        "product1 = Product(\"Laptop\", 1200.50, 2)\n",
        "product2 = Product(\"Mouse\", 25.00, 5)\n",
        "\n",
        "print(f\"{product1.name} total price: ${product1.total_price():.2f}\") # Output: Laptop total price: $2401.00\n",
        "print(f\"{product2.name} total price: ${product2.total_price():.2f}\") # Output: Mouse total price: $125.00\n",
        "\n"
      ],
      "metadata": {
        "colab": {
          "base_uri": "https://localhost:8080/"
        },
        "id": "s1Ljp8k_EDw9",
        "outputId": "4d7d88a3-8c3c-46ff-b383-5ed1aa108476"
      },
      "execution_count": 15,
      "outputs": [
        {
          "output_type": "stream",
          "name": "stdout",
          "text": [
            "Laptop total price: $2401.00\n",
            "Mouse total price: $125.00\n"
          ]
        }
      ]
    },
    {
      "cell_type": "code",
      "source": [
        "#16. Create a class Animal with an abstract method sound(). Create two derived classes Cow and Sheep that implement the sound() method.\n",
        "\n",
        "from abc import ABC, abstractmethod\n",
        "\n",
        "class Animal(ABC):\n",
        "    @abstractmethod\n",
        "    def sound(self):\n",
        "        pass\n",
        "\n",
        "class Cow(Animal):\n",
        "    def sound(self):\n",
        "        print(\"Moo!\")\n",
        "\n",
        "class Sheep(Animal):\n",
        "    def sound(self):\n",
        "        print(\"Baa!\")\n",
        "\n",
        "# Demonstrate\n",
        "# animal = Animal() # This would raise a TypeError because Animal is abstract\n",
        "\n",
        "cow = Cow()\n",
        "sheep = Sheep()\n",
        "\n",
        "cow.sound()  # Output: Moo!\n",
        "sheep.sound() # Output: Baa!"
      ],
      "metadata": {
        "colab": {
          "base_uri": "https://localhost:8080/"
        },
        "id": "eN5uba55EEK_",
        "outputId": "78063225-43e9-4f52-cd81-5269d2de4dd7"
      },
      "execution_count": 16,
      "outputs": [
        {
          "output_type": "stream",
          "name": "stdout",
          "text": [
            "Moo!\n",
            "Baa!\n"
          ]
        }
      ]
    },
    {
      "cell_type": "code",
      "source": [
        "#17. Create a class Book with attributes title, author, and year_published. Add a method get_book_info() that returns a formatted string with the book's details.\n",
        "\n",
        "\n",
        "\n",
        "class Book:\n",
        "    def __init__(self, title, author, year_published):\n",
        "        self.title = title\n",
        "        self.author = author\n",
        "        self.year_published = year_published\n",
        "\n",
        "    def get_book_info(self):\n",
        "        return f\"Title: {self.title}\\nAuthor: {self.author}\\nYear Published: {self.year_published}\"\n",
        "\n",
        "# Demonstrate\n",
        "book1 = Book(\"The Hitchhiker's Guide to the Galaxy\", \"Douglas Adams\", 1979)\n",
        "book2 = Book(\"Pride and Prejudice\", \"Jane Austen\", 1813)\n",
        "\n",
        "print(\"--- Book 1 Info ---\")\n",
        "print(book1.get_book_info())\n",
        "print(\"\\n--- Book 2 Info ---\")\n",
        "print(book2.get_book_info())"
      ],
      "metadata": {
        "colab": {
          "base_uri": "https://localhost:8080/"
        },
        "id": "3qg3vKpQEEbQ",
        "outputId": "2353edbe-4489-476d-d8bd-6ed65696f98e"
      },
      "execution_count": 17,
      "outputs": [
        {
          "output_type": "stream",
          "name": "stdout",
          "text": [
            "--- Book 1 Info ---\n",
            "Title: The Hitchhiker's Guide to the Galaxy\n",
            "Author: Douglas Adams\n",
            "Year Published: 1979\n",
            "\n",
            "--- Book 2 Info ---\n",
            "Title: Pride and Prejudice\n",
            "Author: Jane Austen\n",
            "Year Published: 1813\n"
          ]
        }
      ]
    },
    {
      "cell_type": "code",
      "source": [
        "#18. Create a class House with attributes address and price. Create a derived class Mansion that adds an attribute number_of_rooms.\n",
        "\n",
        "class House:\n",
        "    def __init__(self, address, price):\n",
        "        self.address = address\n",
        "        if price < 0:\n",
        "            raise ValueError(\"Price cannot be negative.\")\n",
        "        self.price = price\n",
        "\n",
        "    def get_house_info(self):\n",
        "        return f\"Address: {self.address}, Price: ${self.price:,.2f}\"\n",
        "\n",
        "class Mansion(House):\n",
        "    def __init__(self, address, price, number_of_rooms):\n",
        "        super().__init__(address, price)\n",
        "        if number_of_rooms < 1:\n",
        "            raise ValueError(\"Number of rooms must be at least 1.\")\n",
        "        self.number_of_rooms = number_of_rooms\n",
        "\n",
        "    def get_mansion_info(self):\n",
        "        return f\"{self.get_house_info()}, Rooms: {self.number_of_rooms}\"\n",
        "\n",
        "# Demonstrate\n",
        "house = House(\"123 Main St\", 250000)\n",
        "mansion = Mansion(\"789 Grand Ave\", 5000000, 15)\n",
        "\n",
        "print(house.get_house_info())   # Output: Address: 123 Main St, Price: $250,000.00\n",
        "print(mansion.get_mansion_info()) # Output: Address: 789 Grand Ave, Price: $5,000,000.00, Rooms: 15"
      ],
      "metadata": {
        "colab": {
          "base_uri": "https://localhost:8080/"
        },
        "id": "9n1-nXXtEEqU",
        "outputId": "72133d9f-ee20-43f8-d4a4-7da19d4ca431"
      },
      "execution_count": 18,
      "outputs": [
        {
          "output_type": "stream",
          "name": "stdout",
          "text": [
            "Address: 123 Main St, Price: $250,000.00\n",
            "Address: 789 Grand Ave, Price: $5,000,000.00, Rooms: 15\n"
          ]
        }
      ]
    }
  ]
}